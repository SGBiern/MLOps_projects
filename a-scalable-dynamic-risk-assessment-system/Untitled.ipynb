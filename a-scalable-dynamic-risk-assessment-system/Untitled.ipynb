{
 "cells": [
  {
   "cell_type": "markdown",
   "id": "b8b74274-363b-4279-b2b9-6506934f7f5a",
   "metadata": {},
   "source": [
    "# api test"
   ]
  },
  {
   "cell_type": "code",
   "execution_count": 11,
   "id": "fd79bbdc-9ae0-4ac0-8a3a-f341bf35ed80",
   "metadata": {},
   "outputs": [],
   "source": [
    "import requests\n",
    "import json\n",
    "import os\n",
    "\n",
    "\n",
    "#Specify a URL that resolves to your workspace\n",
    "URL = \"http://127.0.0.1:8008/\"\n",
    "\n",
    "with open('config.json','r') as f:\n",
    "    config = json.load(f) \n",
    "\n",
    "test_data_path = config[\"test_data_path\"]\n",
    "output_model_path = config[\"output_model_path\"]\n",
    "test_data_name = config[\"test_data_name\"]\n",
    "api_return_name = config[\"api_return_name\"]\n",
    "test_data_file_path = os.path.join(test_data_path, test_data_name)\n",
    "api_return_path = os.path.join(output_model_path, api_return_name)"
   ]
  },
  {
   "cell_type": "code",
   "execution_count": 12,
   "id": "5f9cd29f-fb20-47e1-aedb-6650ab5c654c",
   "metadata": {},
   "outputs": [],
   "source": [
    "response1 = requests.post(URL + 'prediction', data={'path': json.dumps(test_data_file_path)})"
   ]
  },
  {
   "cell_type": "code",
   "execution_count": 14,
   "id": "7342bf6d-163d-4086-ae50-bc2bfeba9700",
   "metadata": {},
   "outputs": [
    {
     "data": {
      "text/plain": [
       "[0, 1, 1, 1, 1]"
      ]
     },
     "execution_count": 14,
     "metadata": {},
     "output_type": "execute_result"
    }
   ],
   "source": [
    "response1.json()"
   ]
  },
  {
   "cell_type": "code",
   "execution_count": 15,
   "id": "cb190130-0284-4aa3-b516-3d373e7a994a",
   "metadata": {},
   "outputs": [
    {
     "data": {
      "text/plain": [
       "0.5714285714285715"
      ]
     },
     "execution_count": 15,
     "metadata": {},
     "output_type": "execute_result"
    }
   ],
   "source": [
    "response2 = requests.get(URL + 'scoring')\n",
    "response2.json()"
   ]
  },
  {
   "cell_type": "code",
   "execution_count": 16,
   "id": "397bb7d9-a36a-4963-a69f-a944ffe145ed",
   "metadata": {},
   "outputs": [
    {
     "data": {
      "text/plain": [
       "{'exited': {'mean': 0.5769230769230769,\n",
       "  'median': 1.0,\n",
       "  'std': 0.5038314736557788},\n",
       " 'lastmonth_activity': {'mean': 165.65384615384616,\n",
       "  'median': 73.0,\n",
       "  'std': 284.0332293669446},\n",
       " 'lastyear_activity': {'mean': 1502.923076923077,\n",
       "  'median': 955.0,\n",
       "  'std': 2192.6449584568304},\n",
       " 'number_of_employees': {'mean': 26.884615384615383,\n",
       "  'median': 14.0,\n",
       "  'std': 31.35388578543581}}"
      ]
     },
     "execution_count": 16,
     "metadata": {},
     "output_type": "execute_result"
    }
   ],
   "source": [
    "response3 = requests.get(URL + 'summarystats')\n",
    "response3.json()"
   ]
  },
  {
   "cell_type": "code",
   "execution_count": 18,
   "id": "f92d7998-8da0-4bb6-8ffb-61d516b51c69",
   "metadata": {},
   "outputs": [
    {
     "data": {
      "text/plain": [
       "{'timing': [1.2057621229999995, 1.7812589289999998],\n",
       " 'dependencies': [{'module_name': 'click',\n",
       "   'current_version': '7.1.2',\n",
       "   'latest_version': '7.1.2'},\n",
       "  {'module_name': 'cycler',\n",
       "   'current_version': '0.10.0',\n",
       "   'latest_version': '0.10.0'},\n",
       "  {'module_name': 'Flask',\n",
       "   'current_version': '1.1.2',\n",
       "   'latest_version': '1.1.2'},\n",
       "  {'module_name': 'gunicorn',\n",
       "   'current_version': '20.0.4',\n",
       "   'latest_version': '20.0.4'},\n",
       "  {'module_name': 'itsdangerous',\n",
       "   'current_version': '1.1.0',\n",
       "   'latest_version': '1.1.0'},\n",
       "  {'module_name': 'Jinja2',\n",
       "   'current_version': '2.11.3',\n",
       "   'latest_version': '2.11.3'},\n",
       "  {'module_name': 'joblib',\n",
       "   'current_version': '1.0.1',\n",
       "   'latest_version': '1.0.1'},\n",
       "  {'module_name': 'kiwisolver',\n",
       "   'current_version': '1.3.1',\n",
       "   'latest_version': '1.3.1'},\n",
       "  {'module_name': 'MarkupSafe',\n",
       "   'current_version': '1.1.1',\n",
       "   'latest_version': '1.1.1'},\n",
       "  {'module_name': 'matplotlib',\n",
       "   'current_version': '3.3.4',\n",
       "   'latest_version': '3.3.4'},\n",
       "  {'module_name': 'numpy',\n",
       "   'current_version': '1.20.1',\n",
       "   'latest_version': '1.20.1'},\n",
       "  {'module_name': 'pandas',\n",
       "   'current_version': '1.2.2',\n",
       "   'latest_version': '1.2.2'},\n",
       "  {'module_name': 'Pillow',\n",
       "   'current_version': '8.1.0',\n",
       "   'latest_version': '8.1.0'},\n",
       "  {'module_name': 'pyparsing',\n",
       "   'current_version': '2.4.7',\n",
       "   'latest_version': '2.4.7'},\n",
       "  {'module_name': 'python-dateutil',\n",
       "   'current_version': '2.8.1',\n",
       "   'latest_version': '2.8.1'},\n",
       "  {'module_name': 'pytz',\n",
       "   'current_version': '2021.1',\n",
       "   'latest_version': '2021.1'},\n",
       "  {'module_name': 'scikit-learn',\n",
       "   'current_version': '0.24.1',\n",
       "   'latest_version': '0.24.1'},\n",
       "  {'module_name': 'scipy',\n",
       "   'current_version': '1.6.1',\n",
       "   'latest_version': '1.6.1'},\n",
       "  {'module_name': 'seaborn',\n",
       "   'current_version': '0.11.1',\n",
       "   'latest_version': '0.11.1'},\n",
       "  {'module_name': 'six',\n",
       "   'current_version': '1.15.0',\n",
       "   'latest_version': '1.15.0'},\n",
       "  {'module_name': 'sklearn',\n",
       "   'current_version': '0.0',\n",
       "   'latest_version': '0.0'},\n",
       "  {'module_name': 'threadpoolctl',\n",
       "   'current_version': '2.1.0',\n",
       "   'latest_version': '2.1.0'},\n",
       "  {'module_name': 'Werkzeug',\n",
       "   'current_version': '1.0.1',\n",
       "   'latest_version': '1.0.1'}]}"
      ]
     },
     "execution_count": 18,
     "metadata": {},
     "output_type": "execute_result"
    }
   ],
   "source": [
    "response4 = requests.get(URL + 'diagnostics')\n",
    "response4.json()"
   ]
  },
  {
   "cell_type": "code",
   "execution_count": null,
   "id": "3d970424-ed6b-43e7-bfae-b0cb14e936d3",
   "metadata": {},
   "outputs": [],
   "source": []
  }
 ],
 "metadata": {
  "kernelspec": {
   "display_name": "Python 3",
   "language": "python",
   "name": "python3"
  },
  "language_info": {
   "codemirror_mode": {
    "name": "ipython",
    "version": 3
   },
   "file_extension": ".py",
   "mimetype": "text/x-python",
   "name": "python",
   "nbconvert_exporter": "python",
   "pygments_lexer": "ipython3",
   "version": "3.9.13"
  }
 },
 "nbformat": 4,
 "nbformat_minor": 5
}
